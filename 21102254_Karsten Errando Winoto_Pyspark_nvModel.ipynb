{
 "cells": [
  {
   "cell_type": "code",
   "execution_count": 29,
   "metadata": {},
   "outputs": [],
   "source": [
    "import pyspark \n",
    "from pyspark.sql import SparkSession\n",
    "from pyspark.ml.feature import StringIndexer, OneHotEncoder\n",
    "from pyspark.ml.classification import RandomForestClassifier\n",
    "from pyspark.ml.feature import VectorAssembler\n",
    "from pyspark.ml.regression import LinearRegression\n",
    "from pyspark.ml.evaluation import RegressionEvaluator\n",
    "import pyspark.sql.functions as func\n",
    "from pyspark.ml.classification import NaiveBayes\n",
    "from pyspark.ml.evaluation import MulticlassClassificationEvaluator\n",
    "from pyspark.ml.clustering import KMeans\n",
    "spark=SparkSession.builder.appName('Cars').getOrCreate()\n",
    "from pyspark.sql.types import IntegerType\n"
   ]
  },
  {
   "cell_type": "code",
   "execution_count": 2,
   "metadata": {},
   "outputs": [],
   "source": [
    "path = \"CIS_Automotive_Kaggle_Sample.csv\"\n",
    "\n",
    "spark = SparkSession.builder.appName(\"Automotive1\").getOrCreate()\n",
    "df = spark.read.option(\"header\",'True').option('delimiter', ',').csv(path)"
   ]
  },
  {
   "cell_type": "code",
   "execution_count": 3,
   "metadata": {},
   "outputs": [
    {
     "name": "stdout",
     "output_type": "stream",
     "text": [
      "+--------------------+--------+----------+----------+-----+--------+-------+-----+-------------------+-------------+----------+--------------+--------+--------+----------------------+------------------------+----------------------+---------------------+----------------------+-------------------+--------------------+--------------------+-----------------------+--------------------+--------------------+-----------------------------------+--------------------+--------+------------+-----------+--------------+---------------+--------------+-------------+----------------+-----------------+---------------+--------------+-----------+--------------+--------------+--------------+---------------+--------------------+--------------------+------------------+------------------+---------------------+------------+--------------+-----------+--------+------------------+---------------+-----------------+--------------+---------------+-----------------------+----------------------+--------------------+-----------------+-----------------+----------------+--------+--------------------+---------------+----------------------+------+--------+--------------+-----------------------+----------------------+---------------+------------------+-----------+--------------+-----------+---------------------+--------------------+----------------------+--------------------------+--------------------+------------------+--------------------+-------+----------+--------------------+----------+------------------+-----------------------+-----------------+-------------------------------+----------+---------+--------------------+-----------------+--------------+----------+------------+------------------------+---------------------------+---------------+-----------+-----------------------+-----------------------+-----------------------+------------+-----------+--------------------+---------------+------------------+----------------------+---------------------------+-------------------+-------------+--------------------------------------+------------------+--------------------+-------------------+-------------+-----------------+---------------+------------------------+-----------------------+---------------------+------------------------+---------------+-----------+--------+-------------------------------------+---------+----------+--------------------+---------------+-------+--------------+-------------+------------------+------------------+----------------+--------------+---------------------+--------------------+-------+--------+--------+--------------------+--------------------+--------------------+----------------+-----------------+----------------+-----------------+----------------+---------+----------+\n",
      "|                 vin|stockNum| firstSeen|  lastSeen| msrp|askPrice|mileage|isNew|              color|interiorColor| brandName|     modelName|dealerID|  vf_ABS|vf_ActiveSafetySysNote|vf_AdaptiveCruiseControl|vf_AdaptiveDrivingBeam|vf_AdaptiveHeadlights|vf_AdditionalErrorText|vf_AirBagLocCurtain|   vf_AirBagLocFront|    vf_AirBagLocKnee|vf_AirBagLocSeatCushion|    vf_AirBagLocSide|vf_AutoReverseSystem|vf_AutomaticPedestrianAlertingSound|vf_AxleConfiguration|vf_Axles|vf_BasePrice|vf_BatteryA|vf_BatteryA_to|vf_BatteryCells|vf_BatteryInfo|vf_BatteryKWh|vf_BatteryKWh_to|vf_BatteryModules|vf_BatteryPacks|vf_BatteryType|vf_BatteryV|vf_BatteryV_to|vf_BedLengthIN|    vf_BedType|vf_BlindSpotMon|      vf_BodyCabType|        vf_BodyClass|vf_BrakeSystemDesc|vf_BrakeSystemType|vf_BusFloorConfigType|vf_BusLength|    vf_BusType|vf_CAN_AACN|  vf_CIB|vf_CashForClunkers|vf_ChargerLevel|vf_ChargerPowerKW|vf_CoolingType|vf_CurbWeightLB|vf_CustomMotorcycleType|vf_DaytimeRunningLight|vf_DestinationMarket|vf_DisplacementCC|vf_DisplacementCI|vf_DisplacementL|vf_Doors|        vf_DriveType|vf_DriverAssist|vf_DynamicBrakeSupport|vf_EDR|  vf_ESC|vf_EVDriveUnit|vf_ElectrificationLevel|vf_EngineConfiguration|vf_EngineCycles|vf_EngineCylinders|vf_EngineHP|vf_EngineHP_to|vf_EngineKW|vf_EngineManufacturer|      vf_EngineModel|vf_EntertainmentSystem|vf_ForwardCollisionWarning|vf_FuelInjectionType|vf_FuelTypePrimary|vf_FuelTypeSecondary|vf_GCWR|vf_GCWR_to|             vf_GVWR|vf_GVWR_to|vf_KeylessIgnition|vf_LaneDepartureWarning|vf_LaneKeepSystem|vf_LowerBeamHeadlampLightSource|   vf_Make|vf_MakeID|     vf_Manufacturer|vf_ManufacturerId|      vf_Model|vf_ModelID|vf_ModelYear|vf_MotorcycleChassisType|vf_MotorcycleSuspensionType|vf_NCSABodyType|vf_NCSAMake|vf_NCSAMapExcApprovedBy|vf_NCSAMapExcApprovedOn|vf_NCSAMappingException|vf_NCSAModel|vf_NCSANote|             vf_Note|vf_OtherBusInfo|vf_OtherEngineInfo|vf_OtherMotorcycleInfo|vf_OtherRestraintSystemInfo|vf_OtherTrailerInfo|vf_ParkAssist|vf_PedestrianAutomaticEmergencyBraking|      vf_PlantCity| vf_PlantCompanyName|    vf_PlantCountry|vf_PlantState|vf_PossibleValues|vf_Pretensioner|vf_RearCrossTrafficAlert|vf_RearVisibilitySystem|vf_SAEAutomationLevel|vf_SAEAutomationLevel_to|vf_SeatBeltsAll|vf_SeatRows|vf_Seats|vf_SemiautomaticHeadlampBeamSwitching|vf_Series|vf_Series2| vf_SteeringLocation|vf_SuggestedVIN|vf_TPMS|vf_TopSpeedMPH|vf_TrackWidth|vf_TractionControl|vf_TrailerBodyType|vf_TrailerLength|vf_TrailerType|vf_TransmissionSpeeds|vf_TransmissionStyle|vf_Trim|vf_Trim2|vf_Turbo|              vf_VIN| vf_ValveTrainDesign|      vf_VehicleType|vf_WheelBaseLong|vf_WheelBaseShort|vf_WheelBaseType|vf_WheelSizeFront|vf_WheelSizeRear|vf_Wheels|vf_Windows|\n",
      "+--------------------+--------+----------+----------+-----+--------+-------+-----+-------------------+-------------+----------+--------------+--------+--------+----------------------+------------------------+----------------------+---------------------+----------------------+-------------------+--------------------+--------------------+-----------------------+--------------------+--------------------+-----------------------------------+--------------------+--------+------------+-----------+--------------+---------------+--------------+-------------+----------------+-----------------+---------------+--------------+-----------+--------------+--------------+--------------+---------------+--------------------+--------------------+------------------+------------------+---------------------+------------+--------------+-----------+--------+------------------+---------------+-----------------+--------------+---------------+-----------------------+----------------------+--------------------+-----------------+-----------------+----------------+--------+--------------------+---------------+----------------------+------+--------+--------------+-----------------------+----------------------+---------------+------------------+-----------+--------------+-----------+---------------------+--------------------+----------------------+--------------------------+--------------------+------------------+--------------------+-------+----------+--------------------+----------+------------------+-----------------------+-----------------+-------------------------------+----------+---------+--------------------+-----------------+--------------+----------+------------+------------------------+---------------------------+---------------+-----------+-----------------------+-----------------------+-----------------------+------------+-----------+--------------------+---------------+------------------+----------------------+---------------------------+-------------------+-------------+--------------------------------------+------------------+--------------------+-------------------+-------------+-----------------+---------------+------------------------+-----------------------+---------------------+------------------------+---------------+-----------+--------+-------------------------------------+---------+----------+--------------------+---------------+-------+--------------+-------------+------------------+------------------+----------------+--------------+---------------------+--------------------+-------+--------+--------+--------------------+--------------------+--------------------+----------------+-----------------+----------------+-----------------+----------------+---------+----------+\n",
      "|abc5f0360059cf7b6...|  11701A|2019-05-06|2019-05-06| 1498|    1498|      0|False|               Gray|          N/A|MITSUBISHI|Eclipse Spyder|    7514|    NULL|                  NULL|                    NULL|                  NULL|                 NULL|                  NULL|               NULL|1st Row (Driver &...|                NULL|                   NULL|                NULL|                NULL|                               NULL|                NULL|    NULL|        NULL|       NULL|          NULL|           NULL|          NULL|         NULL|            NULL|             NULL|           NULL|          NULL|       NULL|          NULL|          NULL|Not Applicable|           NULL|      Not Applicable|Convertible/Cabri...|              NULL|              NULL|       Not Applicable|        NULL|Not Applicable|       NULL|    NULL|              NULL|           NULL|             NULL|          NULL|           NULL|         Not Applicable|                  NULL|                NULL|           3000.0|  183.07123228419|             3.0|       2|                NULL|           NULL|                  NULL|  NULL|    NULL|          NULL|                   NULL|                  NULL|           NULL|              NULL|       NULL|          NULL|       NULL|                 NULL|                NULL|                  NULL|                      NULL|Multipoint Fuel I...|              NULL|                NULL|   NULL|      NULL|                NULL|      NULL|              NULL|                   NULL|             NULL|                           NULL|MITSUBISHI|      481|MITSUBISHI MOTORS...|             1054|Eclipse Spyder|      2321|        2002|          Not Applicable|             Not Applicable|           NULL|       NULL|                   NULL|                   NULL|                   NULL|        NULL|       NULL|                NULL|           NULL|               MPI|                  NULL|                       NULL|               NULL|         NULL|                                  NULL|BLOOMINGTON-NORMAL|                NULL|UNITED STATES (USA)|     ILLINOIS|             NULL|           NULL|                    NULL|                   NULL|                 NULL|                    NULL|         Manual|       NULL|    NULL|                                 NULL|   SPORTS|      NULL|                NULL|           NULL|   NULL|          NULL|         NULL|              NULL|    Not Applicable|            NULL|Not Applicable|                 NULL|                NULL|   NULL|    NULL|    NULL|abc5f0360059cf7b6...|                NULL|       PASSENGER CAR|            NULL|             NULL|            NULL|             NULL|            NULL|     NULL|      NULL|\n",
      "|e24402cc77f6fd2d6...|   9055B|2019-05-06|2019-05-06|10589|   10589|      0|False|        Super Black|          N/A|    NISSAN|        Altima|    7514|    NULL|                  NULL|                    NULL|                  NULL|                 NULL|                  NULL|     1st & 2nd Rows|1st Row (Driver &...|                NULL|                   NULL|1st Row (Driver &...|                NULL|                               NULL|                NULL|    NULL|        NULL|       NULL|          NULL|           NULL|          NULL|         NULL|            NULL|             NULL|           NULL|          NULL|       NULL|          NULL|          NULL|Not Applicable|           NULL|      Not Applicable|        Sedan/Saloon|              NULL|              NULL|       Not Applicable|        NULL|Not Applicable|       NULL|    NULL|              NULL|           NULL|             NULL|          NULL|           NULL|         Not Applicable|                  NULL|                NULL|           2500.0|  152.55936023683|             2.5|       4|                 4x2|           NULL|                  NULL|  NULL|    NULL|          NULL|                   NULL|               In-Line|           NULL|                 4|       NULL|          NULL|       NULL|                 NULL|                NULL|                  NULL|                      NULL|                NULL|          Gasoline|                NULL|   NULL|      NULL|                NULL|      NULL|              NULL|                   NULL|             NULL|                           NULL|    NISSAN|      478|NISSAN NORTH AMER...|              997|        Altima|      1904|        2016|          Not Applicable|             Not Applicable|           NULL|       NULL|                   NULL|                   NULL|                   NULL|        NULL|       NULL|position 6:Model ...|           NULL|              NULL|                  NULL|       2nd row outboard ...|               NULL|         NULL|                                  NULL|            CANTON|Nissan North Amer...|UNITED STATES (USA)|  MISSISSIPPI|             NULL|           NULL|                    NULL|                   NULL|                 NULL|                    NULL|         Manual|       NULL|    NULL|                                 NULL|     NULL|      NULL|                NULL|           NULL| Direct|          NULL|         NULL|              NULL|    Not Applicable|            NULL|Not Applicable|                 NULL|                NULL|   NULL|    NULL|    NULL|e24402cc77f6fd2d6...|                NULL|       PASSENGER CAR|            NULL|             NULL|            NULL|             NULL|            NULL|     NULL|      NULL|\n",
      "|1c5a8dc966b3d3b37...|  11816A|2017-06-03|2019-05-07|11992|    9940|      0|False|              White|          N/A|      FORD|        Escape|    7514|    NULL|                  NULL|                    NULL|                  NULL|                 NULL|                  NULL|               NULL|1st Row (Driver &...|    Driver Seat Only|                   NULL|      1st & 2nd Rows|                NULL|                               NULL|                NULL|    NULL|        NULL|       NULL|          NULL|           NULL|          NULL|         NULL|            NULL|             NULL|           NULL|          NULL|       NULL|          NULL|          NULL|          NULL|           NULL|                NULL|Sport Utility Veh...|              NULL|         Hydraulic|       Not Applicable|        NULL|Not Applicable|       NULL|    NULL|              NULL|           NULL|             NULL|          NULL|           NULL|         Not Applicable|                  NULL|                NULL|           1600.0|   97.63799055157|             1.6|       4|                 4x2|           NULL|                  NULL|  NULL|    NULL|          NULL|                   NULL|               In-Line|           NULL|                 4|        178|          NULL|   132.7346|                 Ford|                NULL|                  NULL|                      NULL|Stoichiometric ga...|          Gasoline|                NULL|   NULL|      NULL|Class 1C: 4001 - ...|      NULL|              NULL|                   NULL|             NULL|                           NULL|      FORD|      460|FORD MOTOR COMPAN...|              976|        Escape|      1798|        2014|          Not Applicable|             Not Applicable|           NULL|       NULL|                   NULL|                   NULL|                   NULL|        NULL|       NULL|                NULL|           NULL|           Ti-VCT |                  NULL|                       NULL|               NULL|         NULL|                                  NULL|        LOUISVILLE|Louisville Assembly |UNITED STATES (USA)|     KENTUCKY|             NULL|           NULL|                    NULL|                   NULL|                 NULL|                    NULL|         Manual|       NULL|    NULL|                                 NULL|       SE|      NULL|                NULL|           NULL| Direct|          NULL|         NULL|              NULL|    Not Applicable|            NULL|Not Applicable|                 NULL|                NULL|   NULL|    NULL|    NULL|1c5a8dc966b3d3b37...|                NULL|MULTIPURPOSE PASS...|            NULL|             NULL|            NULL|             NULL|            NULL|     NULL|      NULL|\n",
      "|edce23814c88f5a1d...|   11847|2019-05-06|2019-05-07|12387|   12387|      0|False|Silver Ice Metallic|          N/A| CHEVROLET|         Cruze|    7514|Standard|                  NULL|                    NULL|              Optional|                 NULL|                  NULL|           All Rows|1st Row (Driver &...|1st Row (Driver &...|                   NULL|      1st & 2nd Rows|            Standard|                               NULL|                NULL|       2|       23475|       NULL|          NULL|           NULL|          NULL|         NULL|            NULL|             NULL|           NULL|          NULL|       NULL|          NULL|          NULL|Not Applicable|       Optional|      Not Applicable|        Sedan/Saloon|              NULL|              NULL|       Not Applicable|        NULL|Not Applicable|   Standard|    NULL|              NULL|           NULL|             NULL|          NULL|           NULL|         Not Applicable|              Standard|                NULL|           1400.0|   85.43324173262|             1.4|       4|                NULL|           NULL|              Standard|  NULL|Standard|          NULL|                   NULL|               In-Line|           NULL|                 4|       NULL|          NULL|       NULL|                 GMNA|LE2 -DI: Direct I...|                  NULL|                  Optional|                NULL|          Gasoline|                NULL|   NULL|      NULL|                NULL|      NULL|          Standard|               Optional|         Optional|                           NULL| CHEVROLET|      467|  GENERAL MOTORS LLC|              984|         Cruze|      1832|        2017|          Not Applicable|             Not Applicable|           NULL|       NULL|                   NULL|                   NULL|                   NULL|        NULL|       NULL|                NULL|           NULL|              NULL|                  NULL|                       NULL|               NULL|         NULL|                                  NULL|         LORDSTOWN|                GMNA|UNITED STATES (USA)|         OHIO|             NULL|           NULL|                    NULL|               Standard|                 NULL|                    NULL|         Manual|          2|       5|                             Standard|  Premier|      NULL|Left Hand Drive (...|           NULL| Direct|           130|         NULL|          Standard|    Not Applicable|            NULL|Not Applicable|                 NULL|           Automatic|   NULL|    NULL|     Yes|edce23814c88f5a1d...|Dual Overhead Cam...|       PASSENGER CAR|            NULL|            106.3|            NULL|               17|              17|        4|         4|\n",
      "|6b4f8c610d14d864f...|    9097|2019-05-06|2019-05-07|41659|   41659|      0| True|     Black Metallic|          N/A|      FORD|         F-150|    7514|Standard|                  NULL|                    NULL|              Standard|                 NULL|                  NULL|               NULL|1st Row (Driver &...|                NULL|                   NULL|      1st & 2nd Rows|            Standard|                               NULL|                NULL|       2|        NULL|       NULL|          NULL|           NULL|          NULL|         NULL|            NULL|             NULL|           NULL|          NULL|       NULL|          NULL|          NULL|          NULL|           NULL|Crew/ Super Crew/...|              Pickup|              NULL|         Hydraulic|       Not Applicable|        NULL|Not Applicable|   Standard|Standard|              NULL|           NULL|             NULL|          NULL|           NULL|         Not Applicable|              Standard|                NULL|             5000|   305.1187204736|               5|    NULL|4WD/4-Wheel Drive...|           NULL|              Standard|  NULL|Standard|          NULL|                   NULL|              V-Shaped|           NULL|                 8|        395|          NULL|   294.5515|                 Ford|             5.0L 4V|           CD + stereo|                  Standard|                NULL|          Gasoline|                NULL|   NULL|      NULL|Class 2E: 6001 - ...|      NULL|              NULL|               Optional|         Optional|                           NULL|      FORD|      460|FORD MOTOR COMPAN...|              976|         F-150|      1801|        2019|          Not Applicable|             Not Applicable|           NULL|       NULL|                   NULL|                   NULL|                   NULL|        NULL|       NULL|                NULL|           NULL|              NULL|                  NULL|                       NULL|               NULL|         NULL|                              Standard|          DEARBORN|            Dearborn|UNITED STATES (USA)|     MICHIGAN|             NULL|           NULL|                    NULL|               Standard|                 NULL|                    NULL|         Manual|          2|       6|                             Standard|     NULL|      NULL|Left Hand Drive (...|           NULL| Direct|          NULL|         NULL|          Standard|    Not Applicable|            NULL|Not Applicable|                 NULL|           Automatic|   NULL|    NULL|    NULL|6b4f8c610d14d864f...|                NULL|              TRUCK |           156.8|           145.00|            NULL|               17|              17|        4|      NULL|\n",
      "+--------------------+--------+----------+----------+-----+--------+-------+-----+-------------------+-------------+----------+--------------+--------+--------+----------------------+------------------------+----------------------+---------------------+----------------------+-------------------+--------------------+--------------------+-----------------------+--------------------+--------------------+-----------------------------------+--------------------+--------+------------+-----------+--------------+---------------+--------------+-------------+----------------+-----------------+---------------+--------------+-----------+--------------+--------------+--------------+---------------+--------------------+--------------------+------------------+------------------+---------------------+------------+--------------+-----------+--------+------------------+---------------+-----------------+--------------+---------------+-----------------------+----------------------+--------------------+-----------------+-----------------+----------------+--------+--------------------+---------------+----------------------+------+--------+--------------+-----------------------+----------------------+---------------+------------------+-----------+--------------+-----------+---------------------+--------------------+----------------------+--------------------------+--------------------+------------------+--------------------+-------+----------+--------------------+----------+------------------+-----------------------+-----------------+-------------------------------+----------+---------+--------------------+-----------------+--------------+----------+------------+------------------------+---------------------------+---------------+-----------+-----------------------+-----------------------+-----------------------+------------+-----------+--------------------+---------------+------------------+----------------------+---------------------------+-------------------+-------------+--------------------------------------+------------------+--------------------+-------------------+-------------+-----------------+---------------+------------------------+-----------------------+---------------------+------------------------+---------------+-----------+--------+-------------------------------------+---------+----------+--------------------+---------------+-------+--------------+-------------+------------------+------------------+----------------+--------------+---------------------+--------------------+-------+--------+--------+--------------------+--------------------+--------------------+----------------+-----------------+----------------+-----------------+----------------+---------+----------+\n",
      "only showing top 5 rows\n",
      "\n"
     ]
    }
   ],
   "source": [
    "df.show(5)"
   ]
  },
  {
   "cell_type": "code",
   "execution_count": 4,
   "metadata": {},
   "outputs": [
    {
     "name": "stdout",
     "output_type": "stream",
     "text": [
      "+--------------------+-----+--------+----------+--------------+\n",
      "|                 vin| msrp|askPrice| brandName|     modelName|\n",
      "+--------------------+-----+--------+----------+--------------+\n",
      "|abc5f0360059cf7b6...| 1498|    1498|MITSUBISHI|Eclipse Spyder|\n",
      "|e24402cc77f6fd2d6...|10589|   10589|    NISSAN|        Altima|\n",
      "|1c5a8dc966b3d3b37...|11992|    9940|      FORD|        Escape|\n",
      "|edce23814c88f5a1d...|12387|   12387| CHEVROLET|         Cruze|\n",
      "|6b4f8c610d14d864f...|41659|   41659|      FORD|         F-150|\n",
      "+--------------------+-----+--------+----------+--------------+\n",
      "only showing top 5 rows\n",
      "\n"
     ]
    }
   ],
   "source": [
    "columns = [\"vin\",\"msrp\",\"askPrice\",\"brandName\",\"modelName\"]\n",
    "selected_df = df.select(columns)\n",
    "selected_df.show(5)"
   ]
  },
  {
   "cell_type": "code",
   "execution_count": 5,
   "metadata": {},
   "outputs": [
    {
     "name": "stdout",
     "output_type": "stream",
     "text": [
      "+---+----+--------+---------+---------+\n",
      "|vin|msrp|askPrice|brandName|modelName|\n",
      "+---+----+--------+---------+---------+\n",
      "|  0|   0|       0|     1260|     5843|\n",
      "+---+----+--------+---------+---------+\n",
      "\n"
     ]
    }
   ],
   "source": [
    "from pyspark.sql.functions import col,isnan, when, count\n",
    "selected_df.select([count(when(isnan(c) | col(c).isNull(), c)).alias(c) for c in selected_df.columns]\n",
    "   ).show()"
   ]
  },
  {
   "cell_type": "code",
   "execution_count": 6,
   "metadata": {},
   "outputs": [],
   "source": [
    "cleaned_df = selected_df.dropna(subset=[\"brandName\", \"modelName\"])"
   ]
  },
  {
   "cell_type": "code",
   "execution_count": 7,
   "metadata": {},
   "outputs": [
    {
     "name": "stdout",
     "output_type": "stream",
     "text": [
      "+---+----+--------+---------+---------+\n",
      "|vin|msrp|askPrice|brandName|modelName|\n",
      "+---+----+--------+---------+---------+\n",
      "|  0|   0|       0|        0|        0|\n",
      "+---+----+--------+---------+---------+\n",
      "\n"
     ]
    }
   ],
   "source": [
    "from pyspark.sql.functions import col,isnan, when, count\n",
    "cleaned_df.select([count(when(isnan(c) | col(c).isNull(), c)).alias(c) for c in cleaned_df.columns]\n",
    "   ).show()"
   ]
  },
  {
   "cell_type": "code",
   "execution_count": 8,
   "metadata": {},
   "outputs": [
    {
     "name": "stdout",
     "output_type": "stream",
     "text": [
      "+--------------------+-----+--------+----------+---------------+\n",
      "|                 vin| msrp|askPrice| brandName|      modelName|\n",
      "+--------------------+-----+--------+----------+---------------+\n",
      "|abc5f0360059cf7b6...| 1498|    1498|MITSUBISHI| Eclipse Spyder|\n",
      "|e24402cc77f6fd2d6...|10589|   10589|    NISSAN|         Altima|\n",
      "|1c5a8dc966b3d3b37...|11992|    9940|      FORD|         Escape|\n",
      "|edce23814c88f5a1d...|12387|   12387| CHEVROLET|          Cruze|\n",
      "|6b4f8c610d14d864f...|41659|   41659|      FORD|          F-150|\n",
      "|7a7752d920ebee107...|12970|   12970|      FORD|         Fusion|\n",
      "|ec634358248242175...|15218|   15218|      FORD|         Escape|\n",
      "|f64e8bdce175d66b9...|18755|   18755|      FORD|           Flex|\n",
      "|45c4fc09de25f741e...|36999|   36999|      FORD|       Explorer|\n",
      "|d1795f984bd6e4364...|18276|   18276|      FORD|         Escape|\n",
      "|6e2afe5b217193bb3...|22140|   22140|      FORD|         Escape|\n",
      "|45c4fc09de25f741e...|    0|       0|      FORD|       Explorer|\n",
      "|f24a5358ce834ef52...|14496|   14496|      JEEP|       Renegade|\n",
      "|d719f73e9f670abb6...|10222|   10222|      FORD|         Fiesta|\n",
      "|92c36195ba5a48c78...|20494|   20494|      FORD|Transit Connect|\n",
      "|e6f56838d9d641177...|47174|   47174|      FORD|          F-150|\n",
      "|e7746ad17d68b1200...|19026|   19026|      FORD|         Escape|\n",
      "|1aba4319a748b7760...|    0|       0|      FORD|       Explorer|\n",
      "|0fa9bdce44e8ee19e...|18951|   18951|      FORD|         Escape|\n",
      "|93a38de3f791a9f76...|16649|   16649|     DODGE|        Journey|\n",
      "+--------------------+-----+--------+----------+---------------+\n",
      "only showing top 20 rows\n",
      "\n"
     ]
    }
   ],
   "source": [
    "cleaned_df.show()"
   ]
  },
  {
   "cell_type": "code",
   "execution_count": 9,
   "metadata": {},
   "outputs": [],
   "source": [
    "index1 = StringIndexer(inputCol=\"brandName\", outputCol=\"brandname\")\n",
    "indexerModel = index1.fit(cleaned_df)\n"
   ]
  },
  {
   "cell_type": "code",
   "execution_count": 10,
   "metadata": {},
   "outputs": [
    {
     "name": "stdout",
     "output_type": "stream",
     "text": [
      "+--------------------+-----+--------+---------+---------------+\n",
      "|                 vin| msrp|askPrice|brandname|      modelName|\n",
      "+--------------------+-----+--------+---------+---------------+\n",
      "|abc5f0360059cf7b6...| 1498|    1498|     25.0| Eclipse Spyder|\n",
      "|e24402cc77f6fd2d6...|10589|   10589|      4.0|         Altima|\n",
      "|1c5a8dc966b3d3b37...|11992|    9940|      1.0|         Escape|\n",
      "|edce23814c88f5a1d...|12387|   12387|      0.0|          Cruze|\n",
      "|6b4f8c610d14d864f...|41659|   41659|      1.0|          F-150|\n",
      "|7a7752d920ebee107...|12970|   12970|      1.0|         Fusion|\n",
      "|ec634358248242175...|15218|   15218|      1.0|         Escape|\n",
      "|f64e8bdce175d66b9...|18755|   18755|      1.0|           Flex|\n",
      "|45c4fc09de25f741e...|36999|   36999|      1.0|       Explorer|\n",
      "|d1795f984bd6e4364...|18276|   18276|      1.0|         Escape|\n",
      "|6e2afe5b217193bb3...|22140|   22140|      1.0|         Escape|\n",
      "|45c4fc09de25f741e...|    0|       0|      1.0|       Explorer|\n",
      "|f24a5358ce834ef52...|14496|   14496|      3.0|       Renegade|\n",
      "|d719f73e9f670abb6...|10222|   10222|      1.0|         Fiesta|\n",
      "|92c36195ba5a48c78...|20494|   20494|      1.0|Transit Connect|\n",
      "|e6f56838d9d641177...|47174|   47174|      1.0|          F-150|\n",
      "|e7746ad17d68b1200...|19026|   19026|      1.0|         Escape|\n",
      "|1aba4319a748b7760...|    0|       0|      1.0|       Explorer|\n",
      "|0fa9bdce44e8ee19e...|18951|   18951|      1.0|         Escape|\n",
      "|93a38de3f791a9f76...|16649|   16649|      8.0|        Journey|\n",
      "+--------------------+-----+--------+---------+---------------+\n",
      "only showing top 20 rows\n",
      "\n"
     ]
    }
   ],
   "source": [
    "indexed_df = indexerModel.transform(cleaned_df)\n",
    "indexed_df.show()"
   ]
  },
  {
   "cell_type": "code",
   "execution_count": 11,
   "metadata": {},
   "outputs": [],
   "source": [
    "index2 =  StringIndexer(inputCol=\"modelName\", outputCol=\"modelname\")\n",
    "\n",
    "indexerModel = index2.fit(indexed_df)\n"
   ]
  },
  {
   "cell_type": "code",
   "execution_count": 12,
   "metadata": {},
   "outputs": [
    {
     "name": "stdout",
     "output_type": "stream",
     "text": [
      "+--------------------+-----+--------+---------+---------+\n",
      "|                 vin| msrp|askPrice|brandname|modelname|\n",
      "+--------------------+-----+--------+---------+---------+\n",
      "|abc5f0360059cf7b6...| 1498|    1498|     25.0|    528.0|\n",
      "|e24402cc77f6fd2d6...|10589|   10589|      4.0|     19.0|\n",
      "|1c5a8dc966b3d3b37...|11992|    9940|      1.0|      3.0|\n",
      "|edce23814c88f5a1d...|12387|   12387|      0.0|     16.0|\n",
      "|6b4f8c610d14d864f...|41659|   41659|      1.0|      0.0|\n",
      "|7a7752d920ebee107...|12970|   12970|      1.0|      9.0|\n",
      "|ec634358248242175...|15218|   15218|      1.0|      3.0|\n",
      "|f64e8bdce175d66b9...|18755|   18755|      1.0|    131.0|\n",
      "|45c4fc09de25f741e...|36999|   36999|      1.0|      7.0|\n",
      "|d1795f984bd6e4364...|18276|   18276|      1.0|      3.0|\n",
      "|6e2afe5b217193bb3...|22140|   22140|      1.0|      3.0|\n",
      "|45c4fc09de25f741e...|    0|       0|      1.0|      7.0|\n",
      "|f24a5358ce834ef52...|14496|   14496|      3.0|     49.0|\n",
      "|d719f73e9f670abb6...|10222|   10222|      1.0|    102.0|\n",
      "|92c36195ba5a48c78...|20494|   20494|      1.0|    146.0|\n",
      "|e6f56838d9d641177...|47174|   47174|      1.0|      0.0|\n",
      "|e7746ad17d68b1200...|19026|   19026|      1.0|      3.0|\n",
      "|1aba4319a748b7760...|    0|       0|      1.0|      7.0|\n",
      "|0fa9bdce44e8ee19e...|18951|   18951|      1.0|      3.0|\n",
      "|93a38de3f791a9f76...|16649|   16649|      8.0|     39.0|\n",
      "+--------------------+-----+--------+---------+---------+\n",
      "only showing top 20 rows\n",
      "\n"
     ]
    }
   ],
   "source": [
    "indexed_df = indexerModel.transform(indexed_df)\n",
    "indexed_df.show()"
   ]
  },
  {
   "cell_type": "code",
   "execution_count": 15,
   "metadata": {},
   "outputs": [],
   "source": [
    "indexed_df = indexed_df.withColumn('msrp', df['msrp'].cast(IntegerType()))\n",
    "indexed_df = indexed_df.withColumn('askPrice', df['askPrice'].cast(IntegerType()))"
   ]
  },
  {
   "cell_type": "code",
   "execution_count": 21,
   "metadata": {},
   "outputs": [
    {
     "name": "stdout",
     "output_type": "stream",
     "text": [
      "+---------+------+\n",
      "|brandname| count|\n",
      "+---------+------+\n",
      "|      8.0|218559|\n",
      "|      0.0|889692|\n",
      "|      7.0|231989|\n",
      "|     49.0|   363|\n",
      "|     29.0| 16609|\n",
      "|     47.0|   401|\n",
      "|     42.0|  1200|\n",
      "|     44.0|   850|\n",
      "|     35.0|  3427|\n",
      "|     18.0| 97385|\n",
      "|      1.0|781769|\n",
      "|     39.0|  1811|\n",
      "|     34.0|  3897|\n",
      "|     37.0|  2645|\n",
      "|     25.0| 39089|\n",
      "|     36.0|  2882|\n",
      "|      4.0|312876|\n",
      "|     23.0| 41361|\n",
      "|     50.0|   251|\n",
      "|     45.0|   800|\n",
      "+---------+------+\n",
      "only showing top 20 rows\n",
      "\n"
     ]
    }
   ],
   "source": []
  },
  {
   "cell_type": "code",
   "execution_count": 16,
   "metadata": {},
   "outputs": [
    {
     "data": {
      "text/plain": [
       "[('vin', 'string'),\n",
       " ('msrp', 'int'),\n",
       " ('askPrice', 'int'),\n",
       " ('brandname', 'double'),\n",
       " ('modelname', 'double')]"
      ]
     },
     "execution_count": 16,
     "metadata": {},
     "output_type": "execute_result"
    }
   ],
   "source": [
    "indexed_df.dtypes"
   ]
  },
  {
   "cell_type": "code",
   "execution_count": 22,
   "metadata": {},
   "outputs": [
    {
     "name": "stdout",
     "output_type": "stream",
     "text": [
      "+---------+----------------------+\n",
      "|brandname|features              |\n",
      "+---------+----------------------+\n",
      "|25.0     |[1498.0,528.0,1498.0] |\n",
      "|4.0      |[10589.0,19.0,10589.0]|\n",
      "+---------+----------------------+\n",
      "only showing top 2 rows\n",
      "\n"
     ]
    }
   ],
   "source": [
    "assembler = VectorAssembler(inputCols = [\n",
    "     \"askPrice\", \"modelname\",'msrp'],\n",
    "                            outputCol=\"features\")\n",
    "train = assembler.transform(indexed_df).select('brandname', 'features')\n",
    "train.show(truncate = False, n=2)"
   ]
  },
  {
   "cell_type": "code",
   "execution_count": 23,
   "metadata": {},
   "outputs": [],
   "source": [
    "train_df,test_df = train.randomSplit([0.8,0.2],seed =42)"
   ]
  },
  {
   "cell_type": "code",
   "execution_count": 25,
   "metadata": {},
   "outputs": [],
   "source": [
    "nv = NaiveBayes(labelCol='brandname',featuresCol='features' )\n",
    "model = nv.fit(train_df)"
   ]
  },
  {
   "cell_type": "code",
   "execution_count": 28,
   "metadata": {},
   "outputs": [
    {
     "name": "stdout",
     "output_type": "stream",
     "text": [
      "+-------------+---------+----------+\n",
      "|     features|brandname|prediction|\n",
      "+-------------+---------+----------+\n",
      "|[0.0,1.0,0.0]|      0.0|      11.0|\n",
      "|[0.0,1.0,0.0]|      0.0|      11.0|\n",
      "|[0.0,1.0,0.0]|      0.0|      11.0|\n",
      "|[0.0,1.0,0.0]|      0.0|      11.0|\n",
      "|[0.0,1.0,0.0]|      0.0|      11.0|\n",
      "|[0.0,1.0,0.0]|      0.0|      11.0|\n",
      "|[0.0,1.0,0.0]|      0.0|      11.0|\n",
      "|[0.0,1.0,0.0]|      0.0|      11.0|\n",
      "|[0.0,1.0,0.0]|      0.0|      11.0|\n",
      "|[0.0,1.0,0.0]|      0.0|      11.0|\n",
      "|[0.0,1.0,0.0]|      0.0|      11.0|\n",
      "|[0.0,1.0,0.0]|      0.0|      11.0|\n",
      "|[0.0,1.0,0.0]|      0.0|      11.0|\n",
      "|[0.0,1.0,0.0]|      0.0|      11.0|\n",
      "|[0.0,1.0,0.0]|      0.0|      11.0|\n",
      "|[0.0,1.0,0.0]|      0.0|      11.0|\n",
      "|[0.0,1.0,0.0]|      0.0|      11.0|\n",
      "|[0.0,1.0,0.0]|      0.0|      11.0|\n",
      "|[0.0,1.0,0.0]|      0.0|      11.0|\n",
      "|[0.0,1.0,0.0]|      0.0|      11.0|\n",
      "+-------------+---------+----------+\n",
      "only showing top 20 rows\n",
      "\n"
     ]
    }
   ],
   "source": [
    "predictions_nv = model.transform(test_df)\n",
    "predictions_nv.select(\"features\", \"brandname\", \"prediction\").show()"
   ]
  },
  {
   "cell_type": "code",
   "execution_count": 31,
   "metadata": {},
   "outputs": [
    {
     "name": "stdout",
     "output_type": "stream",
     "text": [
      "Test Accuracy Naive Bayes : 0.012497936909824522\n"
     ]
    }
   ],
   "source": [
    "\n",
    "evaluator = MulticlassClassificationEvaluator(labelCol=\"brandname\", predictionCol=\"prediction\", metricName=\"accuracy\")\n",
    "accuracy_nv = evaluator.evaluate(predictions_nv)\n",
    "print(f\"Test Accuracy Naive Bayes : {accuracy_nv}\")"
   ]
  },
  {
   "cell_type": "code",
   "execution_count": 32,
   "metadata": {},
   "outputs": [
    {
     "name": "stdout",
     "output_type": "stream",
     "text": [
      "Precision: 0.07138777992704061\n",
      "Recall: 0.012497936909824533\n",
      "F1 Score: 0.0062099811892053275\n"
     ]
    }
   ],
   "source": [
    "precision_evaluator = MulticlassClassificationEvaluator(labelCol=\"brandname\", predictionCol=\"prediction\", metricName=\"weightedPrecision\")\n",
    "precision = precision_evaluator.evaluate(predictions_nv)\n",
    "\n",
    "recall_evaluator = MulticlassClassificationEvaluator(labelCol=\"brandname\", predictionCol=\"prediction\", metricName=\"weightedRecall\")\n",
    "recall = recall_evaluator.evaluate(predictions_nv)\n",
    "\n",
    "f1_evaluator = MulticlassClassificationEvaluator(labelCol=\"brandname\", predictionCol=\"prediction\", metricName=\"f1\")\n",
    "f1 = f1_evaluator.evaluate(predictions_nv)\n",
    "\n",
    "print(f\"Precision: {precision}\")\n",
    "print(f\"Recall: {recall}\")\n",
    "print(f\"F1 Score: {f1}\")\n"
   ]
  },
  {
   "cell_type": "code",
   "execution_count": 42,
   "metadata": {},
   "outputs": [
    {
     "ename": "TypeError",
     "evalue": "cannot pickle '_thread.RLock' object",
     "output_type": "error",
     "traceback": [
      "\u001b[1;31m---------------------------------------------------------------------------\u001b[0m",
      "\u001b[1;31mTypeError\u001b[0m                                 Traceback (most recent call last)",
      "Cell \u001b[1;32mIn [42], line 3\u001b[0m\n\u001b[0;32m      1\u001b[0m \u001b[38;5;28;01mfrom\u001b[39;00m \u001b[38;5;21;01mjoblib\u001b[39;00m \u001b[38;5;28;01mimport\u001b[39;00m dump\n\u001b[0;32m      2\u001b[0m model_filename_nv \u001b[38;5;241m=\u001b[39m \u001b[38;5;124m'\u001b[39m\u001b[38;5;124mtrained_model_nf.joblib\u001b[39m\u001b[38;5;124m'\u001b[39m\n\u001b[1;32m----> 3\u001b[0m \u001b[43mdump\u001b[49m\u001b[43m(\u001b[49m\u001b[43mmodel\u001b[49m\u001b[43m,\u001b[49m\u001b[43m \u001b[49m\u001b[43mmodel_filename_nv\u001b[49m\u001b[43m)\u001b[49m\n\u001b[0;32m      4\u001b[0m \u001b[38;5;28mprint\u001b[39m(\u001b[38;5;124mf\u001b[39m\u001b[38;5;124m\"\u001b[39m\u001b[38;5;124mModel saved to \u001b[39m\u001b[38;5;132;01m{\u001b[39;00mmodel_filename_nv\u001b[38;5;132;01m}\u001b[39;00m\u001b[38;5;124m\"\u001b[39m)\n",
      "File \u001b[1;32mc:\\Users\\VIP\\AppData\\Local\\Programs\\Python\\Python310\\lib\\site-packages\\joblib\\numpy_pickle.py:553\u001b[0m, in \u001b[0;36mdump\u001b[1;34m(value, filename, compress, protocol, cache_size)\u001b[0m\n\u001b[0;32m    551\u001b[0m \u001b[38;5;28;01melif\u001b[39;00m is_filename:\n\u001b[0;32m    552\u001b[0m     \u001b[38;5;28;01mwith\u001b[39;00m \u001b[38;5;28mopen\u001b[39m(filename, \u001b[38;5;124m'\u001b[39m\u001b[38;5;124mwb\u001b[39m\u001b[38;5;124m'\u001b[39m) \u001b[38;5;28;01mas\u001b[39;00m f:\n\u001b[1;32m--> 553\u001b[0m         \u001b[43mNumpyPickler\u001b[49m\u001b[43m(\u001b[49m\u001b[43mf\u001b[49m\u001b[43m,\u001b[49m\u001b[43m \u001b[49m\u001b[43mprotocol\u001b[49m\u001b[38;5;241;43m=\u001b[39;49m\u001b[43mprotocol\u001b[49m\u001b[43m)\u001b[49m\u001b[38;5;241;43m.\u001b[39;49m\u001b[43mdump\u001b[49m\u001b[43m(\u001b[49m\u001b[43mvalue\u001b[49m\u001b[43m)\u001b[49m\n\u001b[0;32m    554\u001b[0m \u001b[38;5;28;01melse\u001b[39;00m:\n\u001b[0;32m    555\u001b[0m     NumpyPickler(filename, protocol\u001b[38;5;241m=\u001b[39mprotocol)\u001b[38;5;241m.\u001b[39mdump(value)\n",
      "File \u001b[1;32mc:\\Users\\VIP\\AppData\\Local\\Programs\\Python\\Python310\\lib\\pickle.py:487\u001b[0m, in \u001b[0;36m_Pickler.dump\u001b[1;34m(self, obj)\u001b[0m\n\u001b[0;32m    485\u001b[0m \u001b[38;5;28;01mif\u001b[39;00m \u001b[38;5;28mself\u001b[39m\u001b[38;5;241m.\u001b[39mproto \u001b[38;5;241m>\u001b[39m\u001b[38;5;241m=\u001b[39m \u001b[38;5;241m4\u001b[39m:\n\u001b[0;32m    486\u001b[0m     \u001b[38;5;28mself\u001b[39m\u001b[38;5;241m.\u001b[39mframer\u001b[38;5;241m.\u001b[39mstart_framing()\n\u001b[1;32m--> 487\u001b[0m \u001b[38;5;28;43mself\u001b[39;49m\u001b[38;5;241;43m.\u001b[39;49m\u001b[43msave\u001b[49m\u001b[43m(\u001b[49m\u001b[43mobj\u001b[49m\u001b[43m)\u001b[49m\n\u001b[0;32m    488\u001b[0m \u001b[38;5;28mself\u001b[39m\u001b[38;5;241m.\u001b[39mwrite(STOP)\n\u001b[0;32m    489\u001b[0m \u001b[38;5;28mself\u001b[39m\u001b[38;5;241m.\u001b[39mframer\u001b[38;5;241m.\u001b[39mend_framing()\n",
      "File \u001b[1;32mc:\\Users\\VIP\\AppData\\Local\\Programs\\Python\\Python310\\lib\\site-packages\\joblib\\numpy_pickle.py:355\u001b[0m, in \u001b[0;36mNumpyPickler.save\u001b[1;34m(self, obj)\u001b[0m\n\u001b[0;32m    352\u001b[0m     wrapper\u001b[38;5;241m.\u001b[39mwrite_array(obj, \u001b[38;5;28mself\u001b[39m)\n\u001b[0;32m    353\u001b[0m     \u001b[38;5;28;01mreturn\u001b[39;00m\n\u001b[1;32m--> 355\u001b[0m \u001b[38;5;28;01mreturn\u001b[39;00m \u001b[43mPickler\u001b[49m\u001b[38;5;241;43m.\u001b[39;49m\u001b[43msave\u001b[49m\u001b[43m(\u001b[49m\u001b[38;5;28;43mself\u001b[39;49m\u001b[43m,\u001b[49m\u001b[43m \u001b[49m\u001b[43mobj\u001b[49m\u001b[43m)\u001b[49m\n",
      "File \u001b[1;32mc:\\Users\\VIP\\AppData\\Local\\Programs\\Python\\Python310\\lib\\pickle.py:603\u001b[0m, in \u001b[0;36m_Pickler.save\u001b[1;34m(self, obj, save_persistent_id)\u001b[0m\n\u001b[0;32m    599\u001b[0m     \u001b[38;5;28;01mraise\u001b[39;00m PicklingError(\u001b[38;5;124m\"\u001b[39m\u001b[38;5;124mTuple returned by \u001b[39m\u001b[38;5;132;01m%s\u001b[39;00m\u001b[38;5;124m must have \u001b[39m\u001b[38;5;124m\"\u001b[39m\n\u001b[0;32m    600\u001b[0m                         \u001b[38;5;124m\"\u001b[39m\u001b[38;5;124mtwo to six elements\u001b[39m\u001b[38;5;124m\"\u001b[39m \u001b[38;5;241m%\u001b[39m reduce)\n\u001b[0;32m    602\u001b[0m \u001b[38;5;66;03m# Save the reduce() output and finally memoize the object\u001b[39;00m\n\u001b[1;32m--> 603\u001b[0m \u001b[38;5;28;43mself\u001b[39;49m\u001b[38;5;241;43m.\u001b[39;49m\u001b[43msave_reduce\u001b[49m\u001b[43m(\u001b[49m\u001b[43mobj\u001b[49m\u001b[38;5;241;43m=\u001b[39;49m\u001b[43mobj\u001b[49m\u001b[43m,\u001b[49m\u001b[43m \u001b[49m\u001b[38;5;241;43m*\u001b[39;49m\u001b[43mrv\u001b[49m\u001b[43m)\u001b[49m\n",
      "File \u001b[1;32mc:\\Users\\VIP\\AppData\\Local\\Programs\\Python\\Python310\\lib\\pickle.py:717\u001b[0m, in \u001b[0;36m_Pickler.save_reduce\u001b[1;34m(self, func, args, state, listitems, dictitems, state_setter, obj)\u001b[0m\n\u001b[0;32m    715\u001b[0m \u001b[38;5;28;01mif\u001b[39;00m state \u001b[38;5;129;01mis\u001b[39;00m \u001b[38;5;129;01mnot\u001b[39;00m \u001b[38;5;28;01mNone\u001b[39;00m:\n\u001b[0;32m    716\u001b[0m     \u001b[38;5;28;01mif\u001b[39;00m state_setter \u001b[38;5;129;01mis\u001b[39;00m \u001b[38;5;28;01mNone\u001b[39;00m:\n\u001b[1;32m--> 717\u001b[0m         \u001b[43msave\u001b[49m\u001b[43m(\u001b[49m\u001b[43mstate\u001b[49m\u001b[43m)\u001b[49m\n\u001b[0;32m    718\u001b[0m         write(BUILD)\n\u001b[0;32m    719\u001b[0m     \u001b[38;5;28;01melse\u001b[39;00m:\n\u001b[0;32m    720\u001b[0m         \u001b[38;5;66;03m# If a state_setter is specified, call it instead of load_build\u001b[39;00m\n\u001b[0;32m    721\u001b[0m         \u001b[38;5;66;03m# to update obj's with its previous state.\u001b[39;00m\n\u001b[0;32m    722\u001b[0m         \u001b[38;5;66;03m# First, push state_setter and its tuple of expected arguments\u001b[39;00m\n\u001b[0;32m    723\u001b[0m         \u001b[38;5;66;03m# (obj, state) onto the stack.\u001b[39;00m\n",
      "File \u001b[1;32mc:\\Users\\VIP\\AppData\\Local\\Programs\\Python\\Python310\\lib\\site-packages\\joblib\\numpy_pickle.py:355\u001b[0m, in \u001b[0;36mNumpyPickler.save\u001b[1;34m(self, obj)\u001b[0m\n\u001b[0;32m    352\u001b[0m     wrapper\u001b[38;5;241m.\u001b[39mwrite_array(obj, \u001b[38;5;28mself\u001b[39m)\n\u001b[0;32m    353\u001b[0m     \u001b[38;5;28;01mreturn\u001b[39;00m\n\u001b[1;32m--> 355\u001b[0m \u001b[38;5;28;01mreturn\u001b[39;00m \u001b[43mPickler\u001b[49m\u001b[38;5;241;43m.\u001b[39;49m\u001b[43msave\u001b[49m\u001b[43m(\u001b[49m\u001b[38;5;28;43mself\u001b[39;49m\u001b[43m,\u001b[49m\u001b[43m \u001b[49m\u001b[43mobj\u001b[49m\u001b[43m)\u001b[49m\n",
      "File \u001b[1;32mc:\\Users\\VIP\\AppData\\Local\\Programs\\Python\\Python310\\lib\\pickle.py:560\u001b[0m, in \u001b[0;36m_Pickler.save\u001b[1;34m(self, obj, save_persistent_id)\u001b[0m\n\u001b[0;32m    558\u001b[0m f \u001b[38;5;241m=\u001b[39m \u001b[38;5;28mself\u001b[39m\u001b[38;5;241m.\u001b[39mdispatch\u001b[38;5;241m.\u001b[39mget(t)\n\u001b[0;32m    559\u001b[0m \u001b[38;5;28;01mif\u001b[39;00m f \u001b[38;5;129;01mis\u001b[39;00m \u001b[38;5;129;01mnot\u001b[39;00m \u001b[38;5;28;01mNone\u001b[39;00m:\n\u001b[1;32m--> 560\u001b[0m     \u001b[43mf\u001b[49m\u001b[43m(\u001b[49m\u001b[38;5;28;43mself\u001b[39;49m\u001b[43m,\u001b[49m\u001b[43m \u001b[49m\u001b[43mobj\u001b[49m\u001b[43m)\u001b[49m  \u001b[38;5;66;03m# Call unbound method with explicit self\u001b[39;00m\n\u001b[0;32m    561\u001b[0m     \u001b[38;5;28;01mreturn\u001b[39;00m\n\u001b[0;32m    563\u001b[0m \u001b[38;5;66;03m# Check private dispatch table if any, or else\u001b[39;00m\n\u001b[0;32m    564\u001b[0m \u001b[38;5;66;03m# copyreg.dispatch_table\u001b[39;00m\n",
      "File \u001b[1;32mc:\\Users\\VIP\\AppData\\Local\\Programs\\Python\\Python310\\lib\\pickle.py:972\u001b[0m, in \u001b[0;36m_Pickler.save_dict\u001b[1;34m(self, obj)\u001b[0m\n\u001b[0;32m    969\u001b[0m     \u001b[38;5;28mself\u001b[39m\u001b[38;5;241m.\u001b[39mwrite(MARK \u001b[38;5;241m+\u001b[39m DICT)\n\u001b[0;32m    971\u001b[0m \u001b[38;5;28mself\u001b[39m\u001b[38;5;241m.\u001b[39mmemoize(obj)\n\u001b[1;32m--> 972\u001b[0m \u001b[38;5;28;43mself\u001b[39;49m\u001b[38;5;241;43m.\u001b[39;49m\u001b[43m_batch_setitems\u001b[49m\u001b[43m(\u001b[49m\u001b[43mobj\u001b[49m\u001b[38;5;241;43m.\u001b[39;49m\u001b[43mitems\u001b[49m\u001b[43m(\u001b[49m\u001b[43m)\u001b[49m\u001b[43m)\u001b[49m\n",
      "File \u001b[1;32mc:\\Users\\VIP\\AppData\\Local\\Programs\\Python\\Python310\\lib\\pickle.py:998\u001b[0m, in \u001b[0;36m_Pickler._batch_setitems\u001b[1;34m(self, items)\u001b[0m\n\u001b[0;32m    996\u001b[0m     \u001b[38;5;28;01mfor\u001b[39;00m k, v \u001b[38;5;129;01min\u001b[39;00m tmp:\n\u001b[0;32m    997\u001b[0m         save(k)\n\u001b[1;32m--> 998\u001b[0m         \u001b[43msave\u001b[49m\u001b[43m(\u001b[49m\u001b[43mv\u001b[49m\u001b[43m)\u001b[49m\n\u001b[0;32m    999\u001b[0m     write(SETITEMS)\n\u001b[0;32m   1000\u001b[0m \u001b[38;5;28;01melif\u001b[39;00m n:\n",
      "    \u001b[1;31m[... skipping similar frames: NumpyPickler.save at line 355 (1 times)]\u001b[0m\n",
      "File \u001b[1;32mc:\\Users\\VIP\\AppData\\Local\\Programs\\Python\\Python310\\lib\\pickle.py:603\u001b[0m, in \u001b[0;36m_Pickler.save\u001b[1;34m(self, obj, save_persistent_id)\u001b[0m\n\u001b[0;32m    599\u001b[0m     \u001b[38;5;28;01mraise\u001b[39;00m PicklingError(\u001b[38;5;124m\"\u001b[39m\u001b[38;5;124mTuple returned by \u001b[39m\u001b[38;5;132;01m%s\u001b[39;00m\u001b[38;5;124m must have \u001b[39m\u001b[38;5;124m\"\u001b[39m\n\u001b[0;32m    600\u001b[0m                         \u001b[38;5;124m\"\u001b[39m\u001b[38;5;124mtwo to six elements\u001b[39m\u001b[38;5;124m\"\u001b[39m \u001b[38;5;241m%\u001b[39m reduce)\n\u001b[0;32m    602\u001b[0m \u001b[38;5;66;03m# Save the reduce() output and finally memoize the object\u001b[39;00m\n\u001b[1;32m--> 603\u001b[0m \u001b[38;5;28;43mself\u001b[39;49m\u001b[38;5;241;43m.\u001b[39;49m\u001b[43msave_reduce\u001b[49m\u001b[43m(\u001b[49m\u001b[43mobj\u001b[49m\u001b[38;5;241;43m=\u001b[39;49m\u001b[43mobj\u001b[49m\u001b[43m,\u001b[49m\u001b[43m \u001b[49m\u001b[38;5;241;43m*\u001b[39;49m\u001b[43mrv\u001b[49m\u001b[43m)\u001b[49m\n",
      "File \u001b[1;32mc:\\Users\\VIP\\AppData\\Local\\Programs\\Python\\Python310\\lib\\pickle.py:717\u001b[0m, in \u001b[0;36m_Pickler.save_reduce\u001b[1;34m(self, func, args, state, listitems, dictitems, state_setter, obj)\u001b[0m\n\u001b[0;32m    715\u001b[0m \u001b[38;5;28;01mif\u001b[39;00m state \u001b[38;5;129;01mis\u001b[39;00m \u001b[38;5;129;01mnot\u001b[39;00m \u001b[38;5;28;01mNone\u001b[39;00m:\n\u001b[0;32m    716\u001b[0m     \u001b[38;5;28;01mif\u001b[39;00m state_setter \u001b[38;5;129;01mis\u001b[39;00m \u001b[38;5;28;01mNone\u001b[39;00m:\n\u001b[1;32m--> 717\u001b[0m         \u001b[43msave\u001b[49m\u001b[43m(\u001b[49m\u001b[43mstate\u001b[49m\u001b[43m)\u001b[49m\n\u001b[0;32m    718\u001b[0m         write(BUILD)\n\u001b[0;32m    719\u001b[0m     \u001b[38;5;28;01melse\u001b[39;00m:\n\u001b[0;32m    720\u001b[0m         \u001b[38;5;66;03m# If a state_setter is specified, call it instead of load_build\u001b[39;00m\n\u001b[0;32m    721\u001b[0m         \u001b[38;5;66;03m# to update obj's with its previous state.\u001b[39;00m\n\u001b[0;32m    722\u001b[0m         \u001b[38;5;66;03m# First, push state_setter and its tuple of expected arguments\u001b[39;00m\n\u001b[0;32m    723\u001b[0m         \u001b[38;5;66;03m# (obj, state) onto the stack.\u001b[39;00m\n",
      "    \u001b[1;31m[... skipping similar frames: NumpyPickler.save at line 355 (1 times)]\u001b[0m\n",
      "File \u001b[1;32mc:\\Users\\VIP\\AppData\\Local\\Programs\\Python\\Python310\\lib\\pickle.py:560\u001b[0m, in \u001b[0;36m_Pickler.save\u001b[1;34m(self, obj, save_persistent_id)\u001b[0m\n\u001b[0;32m    558\u001b[0m f \u001b[38;5;241m=\u001b[39m \u001b[38;5;28mself\u001b[39m\u001b[38;5;241m.\u001b[39mdispatch\u001b[38;5;241m.\u001b[39mget(t)\n\u001b[0;32m    559\u001b[0m \u001b[38;5;28;01mif\u001b[39;00m f \u001b[38;5;129;01mis\u001b[39;00m \u001b[38;5;129;01mnot\u001b[39;00m \u001b[38;5;28;01mNone\u001b[39;00m:\n\u001b[1;32m--> 560\u001b[0m     \u001b[43mf\u001b[49m\u001b[43m(\u001b[49m\u001b[38;5;28;43mself\u001b[39;49m\u001b[43m,\u001b[49m\u001b[43m \u001b[49m\u001b[43mobj\u001b[49m\u001b[43m)\u001b[49m  \u001b[38;5;66;03m# Call unbound method with explicit self\u001b[39;00m\n\u001b[0;32m    561\u001b[0m     \u001b[38;5;28;01mreturn\u001b[39;00m\n\u001b[0;32m    563\u001b[0m \u001b[38;5;66;03m# Check private dispatch table if any, or else\u001b[39;00m\n\u001b[0;32m    564\u001b[0m \u001b[38;5;66;03m# copyreg.dispatch_table\u001b[39;00m\n",
      "File \u001b[1;32mc:\\Users\\VIP\\AppData\\Local\\Programs\\Python\\Python310\\lib\\pickle.py:972\u001b[0m, in \u001b[0;36m_Pickler.save_dict\u001b[1;34m(self, obj)\u001b[0m\n\u001b[0;32m    969\u001b[0m     \u001b[38;5;28mself\u001b[39m\u001b[38;5;241m.\u001b[39mwrite(MARK \u001b[38;5;241m+\u001b[39m DICT)\n\u001b[0;32m    971\u001b[0m \u001b[38;5;28mself\u001b[39m\u001b[38;5;241m.\u001b[39mmemoize(obj)\n\u001b[1;32m--> 972\u001b[0m \u001b[38;5;28;43mself\u001b[39;49m\u001b[38;5;241;43m.\u001b[39;49m\u001b[43m_batch_setitems\u001b[49m\u001b[43m(\u001b[49m\u001b[43mobj\u001b[49m\u001b[38;5;241;43m.\u001b[39;49m\u001b[43mitems\u001b[49m\u001b[43m(\u001b[49m\u001b[43m)\u001b[49m\u001b[43m)\u001b[49m\n",
      "File \u001b[1;32mc:\\Users\\VIP\\AppData\\Local\\Programs\\Python\\Python310\\lib\\pickle.py:998\u001b[0m, in \u001b[0;36m_Pickler._batch_setitems\u001b[1;34m(self, items)\u001b[0m\n\u001b[0;32m    996\u001b[0m     \u001b[38;5;28;01mfor\u001b[39;00m k, v \u001b[38;5;129;01min\u001b[39;00m tmp:\n\u001b[0;32m    997\u001b[0m         save(k)\n\u001b[1;32m--> 998\u001b[0m         \u001b[43msave\u001b[49m\u001b[43m(\u001b[49m\u001b[43mv\u001b[49m\u001b[43m)\u001b[49m\n\u001b[0;32m    999\u001b[0m     write(SETITEMS)\n\u001b[0;32m   1000\u001b[0m \u001b[38;5;28;01melif\u001b[39;00m n:\n",
      "    \u001b[1;31m[... skipping similar frames: NumpyPickler.save at line 355 (5 times), _Pickler._batch_setitems at line 998 (2 times), _Pickler.save at line 603 (2 times), _Pickler.save at line 560 (2 times), _Pickler.save_dict at line 972 (2 times), _Pickler.save_reduce at line 717 (2 times)]\u001b[0m\n",
      "File \u001b[1;32mc:\\Users\\VIP\\AppData\\Local\\Programs\\Python\\Python310\\lib\\pickle.py:603\u001b[0m, in \u001b[0;36m_Pickler.save\u001b[1;34m(self, obj, save_persistent_id)\u001b[0m\n\u001b[0;32m    599\u001b[0m     \u001b[38;5;28;01mraise\u001b[39;00m PicklingError(\u001b[38;5;124m\"\u001b[39m\u001b[38;5;124mTuple returned by \u001b[39m\u001b[38;5;132;01m%s\u001b[39;00m\u001b[38;5;124m must have \u001b[39m\u001b[38;5;124m\"\u001b[39m\n\u001b[0;32m    600\u001b[0m                         \u001b[38;5;124m\"\u001b[39m\u001b[38;5;124mtwo to six elements\u001b[39m\u001b[38;5;124m\"\u001b[39m \u001b[38;5;241m%\u001b[39m reduce)\n\u001b[0;32m    602\u001b[0m \u001b[38;5;66;03m# Save the reduce() output and finally memoize the object\u001b[39;00m\n\u001b[1;32m--> 603\u001b[0m \u001b[38;5;28;43mself\u001b[39;49m\u001b[38;5;241;43m.\u001b[39;49m\u001b[43msave_reduce\u001b[49m\u001b[43m(\u001b[49m\u001b[43mobj\u001b[49m\u001b[38;5;241;43m=\u001b[39;49m\u001b[43mobj\u001b[49m\u001b[43m,\u001b[49m\u001b[43m \u001b[49m\u001b[38;5;241;43m*\u001b[39;49m\u001b[43mrv\u001b[49m\u001b[43m)\u001b[49m\n",
      "File \u001b[1;32mc:\\Users\\VIP\\AppData\\Local\\Programs\\Python\\Python310\\lib\\pickle.py:717\u001b[0m, in \u001b[0;36m_Pickler.save_reduce\u001b[1;34m(self, func, args, state, listitems, dictitems, state_setter, obj)\u001b[0m\n\u001b[0;32m    715\u001b[0m \u001b[38;5;28;01mif\u001b[39;00m state \u001b[38;5;129;01mis\u001b[39;00m \u001b[38;5;129;01mnot\u001b[39;00m \u001b[38;5;28;01mNone\u001b[39;00m:\n\u001b[0;32m    716\u001b[0m     \u001b[38;5;28;01mif\u001b[39;00m state_setter \u001b[38;5;129;01mis\u001b[39;00m \u001b[38;5;28;01mNone\u001b[39;00m:\n\u001b[1;32m--> 717\u001b[0m         \u001b[43msave\u001b[49m\u001b[43m(\u001b[49m\u001b[43mstate\u001b[49m\u001b[43m)\u001b[49m\n\u001b[0;32m    718\u001b[0m         write(BUILD)\n\u001b[0;32m    719\u001b[0m     \u001b[38;5;28;01melse\u001b[39;00m:\n\u001b[0;32m    720\u001b[0m         \u001b[38;5;66;03m# If a state_setter is specified, call it instead of load_build\u001b[39;00m\n\u001b[0;32m    721\u001b[0m         \u001b[38;5;66;03m# to update obj's with its previous state.\u001b[39;00m\n\u001b[0;32m    722\u001b[0m         \u001b[38;5;66;03m# First, push state_setter and its tuple of expected arguments\u001b[39;00m\n\u001b[0;32m    723\u001b[0m         \u001b[38;5;66;03m# (obj, state) onto the stack.\u001b[39;00m\n",
      "    \u001b[1;31m[... skipping similar frames: NumpyPickler.save at line 355 (1 times)]\u001b[0m\n",
      "File \u001b[1;32mc:\\Users\\VIP\\AppData\\Local\\Programs\\Python\\Python310\\lib\\pickle.py:560\u001b[0m, in \u001b[0;36m_Pickler.save\u001b[1;34m(self, obj, save_persistent_id)\u001b[0m\n\u001b[0;32m    558\u001b[0m f \u001b[38;5;241m=\u001b[39m \u001b[38;5;28mself\u001b[39m\u001b[38;5;241m.\u001b[39mdispatch\u001b[38;5;241m.\u001b[39mget(t)\n\u001b[0;32m    559\u001b[0m \u001b[38;5;28;01mif\u001b[39;00m f \u001b[38;5;129;01mis\u001b[39;00m \u001b[38;5;129;01mnot\u001b[39;00m \u001b[38;5;28;01mNone\u001b[39;00m:\n\u001b[1;32m--> 560\u001b[0m     \u001b[43mf\u001b[49m\u001b[43m(\u001b[49m\u001b[38;5;28;43mself\u001b[39;49m\u001b[43m,\u001b[49m\u001b[43m \u001b[49m\u001b[43mobj\u001b[49m\u001b[43m)\u001b[49m  \u001b[38;5;66;03m# Call unbound method with explicit self\u001b[39;00m\n\u001b[0;32m    561\u001b[0m     \u001b[38;5;28;01mreturn\u001b[39;00m\n\u001b[0;32m    563\u001b[0m \u001b[38;5;66;03m# Check private dispatch table if any, or else\u001b[39;00m\n\u001b[0;32m    564\u001b[0m \u001b[38;5;66;03m# copyreg.dispatch_table\u001b[39;00m\n",
      "File \u001b[1;32mc:\\Users\\VIP\\AppData\\Local\\Programs\\Python\\Python310\\lib\\pickle.py:972\u001b[0m, in \u001b[0;36m_Pickler.save_dict\u001b[1;34m(self, obj)\u001b[0m\n\u001b[0;32m    969\u001b[0m     \u001b[38;5;28mself\u001b[39m\u001b[38;5;241m.\u001b[39mwrite(MARK \u001b[38;5;241m+\u001b[39m DICT)\n\u001b[0;32m    971\u001b[0m \u001b[38;5;28mself\u001b[39m\u001b[38;5;241m.\u001b[39mmemoize(obj)\n\u001b[1;32m--> 972\u001b[0m \u001b[38;5;28;43mself\u001b[39;49m\u001b[38;5;241;43m.\u001b[39;49m\u001b[43m_batch_setitems\u001b[49m\u001b[43m(\u001b[49m\u001b[43mobj\u001b[49m\u001b[38;5;241;43m.\u001b[39;49m\u001b[43mitems\u001b[49m\u001b[43m(\u001b[49m\u001b[43m)\u001b[49m\u001b[43m)\u001b[49m\n",
      "File \u001b[1;32mc:\\Users\\VIP\\AppData\\Local\\Programs\\Python\\Python310\\lib\\pickle.py:998\u001b[0m, in \u001b[0;36m_Pickler._batch_setitems\u001b[1;34m(self, items)\u001b[0m\n\u001b[0;32m    996\u001b[0m     \u001b[38;5;28;01mfor\u001b[39;00m k, v \u001b[38;5;129;01min\u001b[39;00m tmp:\n\u001b[0;32m    997\u001b[0m         save(k)\n\u001b[1;32m--> 998\u001b[0m         \u001b[43msave\u001b[49m\u001b[43m(\u001b[49m\u001b[43mv\u001b[49m\u001b[43m)\u001b[49m\n\u001b[0;32m    999\u001b[0m     write(SETITEMS)\n\u001b[0;32m   1000\u001b[0m \u001b[38;5;28;01melif\u001b[39;00m n:\n",
      "File \u001b[1;32mc:\\Users\\VIP\\AppData\\Local\\Programs\\Python\\Python310\\lib\\site-packages\\joblib\\numpy_pickle.py:355\u001b[0m, in \u001b[0;36mNumpyPickler.save\u001b[1;34m(self, obj)\u001b[0m\n\u001b[0;32m    352\u001b[0m     wrapper\u001b[38;5;241m.\u001b[39mwrite_array(obj, \u001b[38;5;28mself\u001b[39m)\n\u001b[0;32m    353\u001b[0m     \u001b[38;5;28;01mreturn\u001b[39;00m\n\u001b[1;32m--> 355\u001b[0m \u001b[38;5;28;01mreturn\u001b[39;00m \u001b[43mPickler\u001b[49m\u001b[38;5;241;43m.\u001b[39;49m\u001b[43msave\u001b[49m\u001b[43m(\u001b[49m\u001b[38;5;28;43mself\u001b[39;49m\u001b[43m,\u001b[49m\u001b[43m \u001b[49m\u001b[43mobj\u001b[49m\u001b[43m)\u001b[49m\n",
      "File \u001b[1;32mc:\\Users\\VIP\\AppData\\Local\\Programs\\Python\\Python310\\lib\\pickle.py:578\u001b[0m, in \u001b[0;36m_Pickler.save\u001b[1;34m(self, obj, save_persistent_id)\u001b[0m\n\u001b[0;32m    576\u001b[0m reduce \u001b[38;5;241m=\u001b[39m \u001b[38;5;28mgetattr\u001b[39m(obj, \u001b[38;5;124m\"\u001b[39m\u001b[38;5;124m__reduce_ex__\u001b[39m\u001b[38;5;124m\"\u001b[39m, \u001b[38;5;28;01mNone\u001b[39;00m)\n\u001b[0;32m    577\u001b[0m \u001b[38;5;28;01mif\u001b[39;00m reduce \u001b[38;5;129;01mis\u001b[39;00m \u001b[38;5;129;01mnot\u001b[39;00m \u001b[38;5;28;01mNone\u001b[39;00m:\n\u001b[1;32m--> 578\u001b[0m     rv \u001b[38;5;241m=\u001b[39m \u001b[43mreduce\u001b[49m\u001b[43m(\u001b[49m\u001b[38;5;28;43mself\u001b[39;49m\u001b[38;5;241;43m.\u001b[39;49m\u001b[43mproto\u001b[49m\u001b[43m)\u001b[49m\n\u001b[0;32m    579\u001b[0m \u001b[38;5;28;01melse\u001b[39;00m:\n\u001b[0;32m    580\u001b[0m     reduce \u001b[38;5;241m=\u001b[39m \u001b[38;5;28mgetattr\u001b[39m(obj, \u001b[38;5;124m\"\u001b[39m\u001b[38;5;124m__reduce__\u001b[39m\u001b[38;5;124m\"\u001b[39m, \u001b[38;5;28;01mNone\u001b[39;00m)\n",
      "\u001b[1;31mTypeError\u001b[0m: cannot pickle '_thread.RLock' object"
     ]
    }
   ],
   "source": []
  },
  {
   "cell_type": "code",
   "execution_count": null,
   "metadata": {},
   "outputs": [],
   "source": []
  }
 ],
 "metadata": {
  "kernelspec": {
   "display_name": "Python 3",
   "language": "python",
   "name": "python3"
  },
  "language_info": {
   "codemirror_mode": {
    "name": "ipython",
    "version": 3
   },
   "file_extension": ".py",
   "mimetype": "text/x-python",
   "name": "python",
   "nbconvert_exporter": "python",
   "pygments_lexer": "ipython3",
   "version": "3.10.5"
  }
 },
 "nbformat": 4,
 "nbformat_minor": 2
}
